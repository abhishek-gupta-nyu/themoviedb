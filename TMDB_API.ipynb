{
  "nbformat": 4,
  "nbformat_minor": 0,
  "metadata": {
    "colab": {
      "name": "TMDB_API.ipynb",
      "provenance": [],
      "collapsed_sections": []
    },
    "kernelspec": {
      "display_name": "Python 3",
      "name": "python3"
    }
  },
  "cells": [
    {
      "cell_type": "code",
      "metadata": {
        "id": "D6QW5EzXwtPQ"
      },
      "source": [
        "import requests\r\n",
        "\r\n",
        "api_key = \"\"\r\n",
        "\r\n",
        "base_path = \"https://api.themoviedb.org/3/\"\r\n",
        "\r\n",
        "movies = []\r\n",
        "\r\n",
        "year = 2019\r\n",
        "\r\n",
        "# year-month-date\r\n",
        "\r\n",
        "gte = \"2019-06-01\"\r\n",
        "lte = \"2019-10-31\""
      ],
      "execution_count": null,
      "outputs": []
    },
    {
      "cell_type": "code",
      "metadata": {
        "id": "0t6Hj7kHOByF"
      },
      "source": [
        "endpoint = f\"{base_path}discover/movie?api_key={api_key}&primary_release_year={year}&primary_release_date.gte={gte}&primary_release_date.lte={lte}\"\r\n",
        "r = requests.get(endpoint)\r\n",
        "page_check = r.json()\r\n",
        "\r\n",
        "pages = page_check['total_pages']"
      ],
      "execution_count": null,
      "outputs": []
    },
    {
      "cell_type": "code",
      "metadata": {
        "colab": {
          "base_uri": "https://localhost:8080/"
        },
        "id": "yLB127zk3HxG",
        "outputId": "508e07e0-dc2b-4018-874c-edc1db110426"
      },
      "source": [
        "pages"
      ],
      "execution_count": null,
      "outputs": [
        {
          "output_type": "execute_result",
          "data": {
            "text/plain": [
              "497"
            ]
          },
          "metadata": {
            "tags": []
          },
          "execution_count": 121
        }
      ]
    },
    {
      "cell_type": "code",
      "metadata": {
        "id": "1bEYGKhHOBKB"
      },
      "source": [
        "for i in range(1, pages + 1):\r\n",
        "  endpoint = f\"{base_path}discover/movie?api_key={api_key}&primary_release_year={year}&primary_release_date.gte={gte}&primary_release_date.lte={lte}&page={i}\"\r\n",
        "  r = requests.get(endpoint)\r\n",
        "  movies.append(r.json())"
      ],
      "execution_count": null,
      "outputs": []
    },
    {
      "cell_type": "code",
      "metadata": {
        "id": "MtRbMtaUN9WK"
      },
      "source": [
        "movie_id_list = []\r\n",
        "\r\n",
        "for page in movies:\r\n",
        "  for movie in page['results']:\r\n",
        "    movie_id_list.append(movie['id'])"
      ],
      "execution_count": null,
      "outputs": []
    },
    {
      "cell_type": "code",
      "metadata": {
        "id": "fICUbEOFN7an"
      },
      "source": [
        "movie_list = []\r\n",
        "\r\n",
        "for movie_id in movie_id_list:\r\n",
        "  endpoint = f\"{base_path}movie/{movie_id}?api_key={api_key}\"\r\n",
        "  r = requests.get(endpoint)\r\n",
        "  movie_list.append(r.json())"
      ],
      "execution_count": null,
      "outputs": []
    },
    {
      "cell_type": "code",
      "metadata": {
        "id": "7ZlnZzikN5IM"
      },
      "source": [
        "review_list = []\r\n",
        "\r\n",
        "for movie_id in movie_id_list:\r\n",
        "  endpoint = f\"{base_path}movie/{movie_id}/reviews?api_key={api_key}\"\r\n",
        "  r = requests.get(endpoint)\r\n",
        "  review_list.append(r.json())"
      ],
      "execution_count": null,
      "outputs": []
    },
    {
      "cell_type": "code",
      "metadata": {
        "id": "fRGA7rp0N24V"
      },
      "source": [
        "credits_list = []\r\n",
        "\r\n",
        "for movie_id in movie_id_list:\r\n",
        "  endpoint = f\"{base_path}movie/{movie_id}/credits?api_key={api_key}\"\r\n",
        "  r = requests.get(endpoint)\r\n",
        "  credits_list.append(r.json())\r\n"
      ],
      "execution_count": null,
      "outputs": []
    },
    {
      "cell_type": "code",
      "metadata": {
        "id": "gOXU_KzCN0du"
      },
      "source": [
        "keywords_list = []\r\n",
        "\r\n",
        "for movie_id in movie_id_list:\r\n",
        "  endpoint = f\"{base_path}movie/{movie_id}/keywords?api_key={api_key}\"\r\n",
        "  r = requests.get(endpoint)\r\n",
        "  if r.status_code not in range(200, 299):\r\n",
        "    keywords_list.append(\"{}\")\r\n",
        "  else:\r\n",
        "    keywords_list.append(r.json())"
      ],
      "execution_count": null,
      "outputs": []
    },
    {
      "cell_type": "code",
      "metadata": {
        "id": "_L6g0m0NNvcg"
      },
      "source": [
        "cast_size = []\r\n",
        "crew_size = []\r\n",
        "\r\n",
        "for credits in credits_list:\r\n",
        "  if 'cast' in credits:\r\n",
        "    cast_size.append(len(credits['cast']))\r\n",
        "  else:\r\n",
        "    cast_size.append(0)\r\n",
        "  if 'crew' in credits:\r\n",
        "    crew_size.append(len(credits['crew']))\r\n",
        "  else:\r\n",
        "    crew_size.append(0)"
      ],
      "execution_count": null,
      "outputs": []
    },
    {
      "cell_type": "code",
      "metadata": {
        "id": "afKxzM_ZNriq"
      },
      "source": [
        "director = []\r\n",
        "\r\n",
        "for credits in credits_list:\r\n",
        "  if 'crew' in credits:\r\n",
        "    for crew in credits['crew']:\r\n",
        "      \r\n",
        "      if crew['job'] == \"Director\":\r\n",
        "        d = \"\"\r\n",
        "        d += crew['name'] + \",\"\r\n",
        "    director.append(d)\r\n",
        "  else:\r\n",
        "    director.append(\"\")"
      ],
      "execution_count": null,
      "outputs": []
    },
    {
      "cell_type": "code",
      "metadata": {
        "id": "P8nXdSpKNiNG"
      },
      "source": [
        "adult = []\r\n",
        "budget = []\r\n",
        "backdrop_path = []\r\n",
        "homepage = []\r\n",
        "id = []\r\n",
        "imdb_id = []\r\n",
        "original_language = []\r\n",
        "original_title = []\r\n",
        "overview = []\r\n",
        "popularity = []\r\n",
        "poster_path = []\r\n",
        "release_date = []\r\n",
        "revenue = []\r\n",
        "runtime = []\r\n",
        "status = []\r\n",
        "tagline = []\r\n",
        "title = []\r\n",
        "video = []\r\n",
        "vote_average = []\r\n",
        "vote_count = []\r\n",
        "\r\n",
        "genre = []\r\n",
        "production_companies = []\r\n",
        "belongs_to_collection = []\r\n",
        "spoken_languages = []\r\n",
        "production_countries = []\r\n",
        "\r\n",
        "for movie in movie_list:\r\n",
        "  if 'adult' in movie:\r\n",
        "    adult.append(movie['adult'])\r\n",
        "  else:\r\n",
        "    adult.append(\"\")\r\n",
        "\r\n",
        "  if 'budget' in movie:\r\n",
        "    budget.append(movie['budget'])\r\n",
        "  else:\r\n",
        "    budget.append(\"\")\r\n",
        "\r\n",
        "  if 'backdrop_path' in movie:\r\n",
        "    backdrop_path.append(movie['backdrop_path'])\r\n",
        "  else:\r\n",
        "    backdrop_path.append(\"\")\r\n",
        "\r\n",
        "  if 'homepage' in movie:\r\n",
        "    homepage.append(movie['homepage'])\r\n",
        "  else:\r\n",
        "    homepage.append(\"\")\r\n",
        "\r\n",
        "  if 'id' in movie:\r\n",
        "    id.append(movie['id'])\r\n",
        "  else:\r\n",
        "    id.append(\"\")\r\n",
        "\r\n",
        "  if 'imdb_id' in movie:\r\n",
        "    imdb_id.append(movie['imdb_id'])\r\n",
        "  else:\r\n",
        "    imdb_id.append(\"\")\r\n",
        "\r\n",
        "  if 'original_language' in movie:\r\n",
        "    original_language.append(movie['original_language'])\r\n",
        "  else:\r\n",
        "    original_language.append(\"\")\r\n",
        "\r\n",
        "  if 'original_title' in movie:\r\n",
        "    original_title.append(movie['original_title'])\r\n",
        "  else:\r\n",
        "    original_title.append(\"\")\r\n",
        "\r\n",
        "  if 'overview' in movie:\r\n",
        "    overview.append(movie['overview'])\r\n",
        "  else:\r\n",
        "    overview.append(\"\")\r\n",
        "\r\n",
        "  if 'popularity' in movie:\r\n",
        "    popularity.append(movie['popularity'])\r\n",
        "  else:\r\n",
        "    popularity.append(\"\")\r\n",
        "\r\n",
        "  if 'poster_path' in movie:\r\n",
        "    poster_path.append(movie['poster_path'])\r\n",
        "  else:\r\n",
        "    poster_path.append(\"\")\r\n",
        "\r\n",
        "  if 'release_date' in movie:\r\n",
        "    release_date.append(movie['release_date'])\r\n",
        "  else:\r\n",
        "    release_date.append(\"\")\r\n",
        "\r\n",
        "  if 'revenue' in movie:\r\n",
        "    revenue.append(movie['revenue'])\r\n",
        "  else:\r\n",
        "    revenue.append(\"\")\r\n",
        "\r\n",
        "  if 'runtime' in movie:\r\n",
        "    runtime.append(movie['runtime'])\r\n",
        "  else:\r\n",
        "    runtime.append(\"\")\r\n",
        "\r\n",
        "  if 'status' in movie:\r\n",
        "    status.append(movie['status'])\r\n",
        "  else:\r\n",
        "    status.append(\"\")\r\n",
        "\r\n",
        "  if 'tagline' in movie:\r\n",
        "    tagline.append(movie['tagline'])\r\n",
        "  else:\r\n",
        "    tagline.append(\"\")\r\n",
        "\r\n",
        "  if 'title' in movie:\r\n",
        "    title.append(movie['title'])\r\n",
        "  else:\r\n",
        "    title.append(\"\")\r\n",
        "\r\n",
        "  if 'video' in movie:\r\n",
        "    video.append(movie['video'])\r\n",
        "  else:\r\n",
        "    video.append(\"\")\r\n",
        "\r\n",
        "  if 'vote_average' in movie:\r\n",
        "    vote_average.append(movie['vote_average'])\r\n",
        "  else:\r\n",
        "    vote_average.append(\"\")\r\n",
        "\r\n",
        "  if 'vote_count' in movie:\r\n",
        "    vote_count.append(movie['vote_count'])\r\n",
        "  else:\r\n",
        "    vote_count.append(\"\")\r\n",
        "\r\n",
        "  g = \"\"\r\n",
        "\r\n",
        "  if 'genres' in movie:\r\n",
        "    for genres in movie['genres']:\r\n",
        "      g += genres['name'] + \",\"\r\n",
        "\r\n",
        "  genre.append(g)\r\n",
        "\r\n",
        "  pc = \"\"\r\n",
        "\r\n",
        "  if 'production_companies' in movie:\r\n",
        "    for pro_com in movie['production_companies']:\r\n",
        "      pc += pro_com['name'] + \",\"\r\n",
        "\r\n",
        "  production_companies.append(pc)\r\n",
        "\r\n",
        "  country = \"\"\r\n",
        "\r\n",
        "  if 'production_countries' in movie:\r\n",
        "    for pro_country in movie['production_countries']:\r\n",
        "      country += pro_country['iso_3166_1'] + \",\"\r\n",
        "\r\n",
        "  production_countries.append(country)\r\n",
        "\r\n",
        "  sl = \"\"\r\n",
        "\r\n",
        "  if 'spoken_languages' in movie:\r\n",
        "    for spo_lan in movie['spoken_languages']:\r\n",
        "      sl += spo_lan['iso_639_1'] + \",\"\r\n",
        "\r\n",
        "  spoken_languages.append(sl)\r\n",
        "\r\n",
        "  if 'belongs_to_collection' in movie:\r\n",
        "    collection = movie['belongs_to_collection']\r\n",
        "\r\n",
        "    if collection != None:\r\n",
        "      belongs_to_collection.append(collection['name'])\r\n",
        "    else:\r\n",
        "      belongs_to_collection.append(\"\")\r\n",
        "  else:\r\n",
        "    belongs_to_collection.append(\"\")"
      ],
      "execution_count": null,
      "outputs": []
    },
    {
      "cell_type": "code",
      "metadata": {
        "id": "2QPfUSE9NaBg"
      },
      "source": [
        "review_count = []\r\n",
        "review_content = []\r\n",
        "\r\n",
        "for review in review_list:\r\n",
        "  if 'total_results' in review:\r\n",
        "    review_count.append(review['total_results'])\r\n",
        "    content = \"\"\r\n",
        "    for results in review['results']:\r\n",
        "      content += results['content'] + \",\"\r\n",
        "\r\n",
        "    review_content.append(content)\r\n",
        "  else:\r\n",
        "    review_count.append(0)\r\n",
        "    review_content.append(\"\")\r\n"
      ],
      "execution_count": null,
      "outputs": []
    },
    {
      "cell_type": "code",
      "metadata": {
        "id": "hpqzJR3SUc05"
      },
      "source": [
        "keywords = []\r\n",
        "\r\n",
        "for keyword in keywords_list:\r\n",
        "\r\n",
        "  content = \"\"\r\n",
        "  if 'keywords' in keyword:\r\n",
        "    for key in keyword['keywords']:\r\n",
        "      content += key['name'] + \",\"\r\n",
        "\r\n",
        "  keywords.append(content)\r\n",
        "  "
      ],
      "execution_count": null,
      "outputs": []
    },
    {
      "cell_type": "code",
      "metadata": {
        "id": "yoxlVdTfUZMV"
      },
      "source": [
        "movie_dict = {\r\n",
        "    'original_title': original_title,\r\n",
        "    'original_language': original_language,\r\n",
        "    'adult': adult,\r\n",
        "    'budget': budget,\r\n",
        "    'backdrop_path': backdrop_path,\r\n",
        "    'homepage': homepage,\r\n",
        "    'id': id,\r\n",
        "    'imdb_id': imdb_id,\r\n",
        "    'original_language': original_language,\r\n",
        "    'original_title': original_title,\r\n",
        "    'overview': overview,\r\n",
        "    'popularity': popularity,\r\n",
        "    'poster_path': poster_path,\r\n",
        "    'release_date': release_date,\r\n",
        "    'revenue': revenue,\r\n",
        "    'runtime': runtime,\r\n",
        "    'status': status,\r\n",
        "    'tagline': tagline,\r\n",
        "    'title': title,\r\n",
        "    'video': video,\r\n",
        "    'vote_average': vote_average,\r\n",
        "    'vote_count': vote_count,\r\n",
        "    'genre': genre,\r\n",
        "    'production_companies': production_companies,\r\n",
        "    'belongs_to_collection': belongs_to_collection,\r\n",
        "    'spoken_languages': spoken_languages,\r\n",
        "    'production_countries':production_countries,\r\n",
        "    'review_count':review_count,\r\n",
        "    'review_content':review_content,\r\n",
        "    'keywords': keywords,\r\n",
        "    'cast_size': cast_size,\r\n",
        "    'crew_size': crew_size,\r\n",
        "    'director': director\r\n",
        "    \r\n",
        "}"
      ],
      "execution_count": null,
      "outputs": []
    },
    {
      "cell_type": "code",
      "metadata": {
        "id": "Z4owBmJyUVzc"
      },
      "source": [
        "import pandas as pd\r\n",
        "\r\n",
        "df = pd.DataFrame(movie_dict)\r\n",
        "df\r\n",
        "\r\n",
        "df.to_csv(r'2019-6to10.csv', index = False)"
      ],
      "execution_count": null,
      "outputs": []
    }
  ]
}